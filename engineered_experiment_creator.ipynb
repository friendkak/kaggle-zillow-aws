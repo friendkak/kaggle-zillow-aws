{
 "cells": [
  {
   "cell_type": "code",
   "execution_count": 2,
   "metadata": {},
   "outputs": [],
   "source": [
    "import pandas as pd\n",
    "import sagemaker\n",
    "from sagemaker import get_execution_role\n",
    "import json\n",
    "import boto3\n"
   ]
  },
  {
   "cell_type": "code",
   "execution_count": 112,
   "metadata": {},
   "outputs": [],
   "source": [
    " fully_engineered = pd.read_csv('s3://zillow-kaggle-awsml-2020/fully_engineered.csv', index_col=0)"
   ]
  },
  {
   "cell_type": "code",
   "execution_count": 113,
   "metadata": {},
   "outputs": [
    {
     "name": "stdout",
     "output_type": "stream",
     "text": [
      "0\tparcelid\n",
      "1\tlogerror\n",
      "2\ttransactiondate\n",
      "3\tbathroom_overage\n",
      "4\tknockdown\n",
      "5\tunreliable_assessment\n",
      "6\tlow_qual_building\n",
      "7\tmed_qual_building\n",
      "8\tassessed_structure_cost_per_sqft_outlier\n",
      "9\ttopmarket\n",
      "10\tbedroom_overage\n",
      "11\tlotsizelevel\n",
      "12\tlowstructuretaxoutlier\n",
      "13\tlowlandtaxoutlier\n",
      "14\tmultifam\n",
      "15\thighdensity\n",
      "16\ttypical_land_use\n",
      "17\tsingle_story\n",
      "18\thas_pool\n",
      "19\tistrunc_calculatedfinishedsquarefeet\n",
      "20\ttrunc_calculatedfinishedsquarefeet\n",
      "21\tistrunc_calculatedbathnbr\n",
      "22\ttrunc_calculatedbathnbr\n",
      "23\tno_garage_info\n",
      "24\tgarage_size_level\n",
      "25\tfireplace_level\n",
      "26\tpatio_level\n",
      "27\thas_large_accessory\n",
      "28\tlog_age\n",
      "29\tbasement_level\n",
      "30\tfull_basement\n",
      "31\tsquare_foot_overage_small\n",
      "32\tsquare_foot_overage_large\n",
      "33\tsquare_foot_overage_opulent\n",
      "34\trecent_tax_delinquency\n",
      "35\tis_trunc_bedrooms\n",
      "36\ttrunc_bedrooms\n",
      "37\tis_trunc_bathrooms\n",
      "38\ttrunc_bathrooms\n",
      "39\tlot_size_overage_small\n",
      "40\tlot_size_overage_mid\n",
      "41\tlot_size_overage_large\n",
      "42\tlot_size_overage_huge\n",
      "43\tlot_size_overage_raw\n",
      "44\thas_unreliable_bedrooms\n",
      "45\thas_unreliable_bathrooms\n",
      "46\thas_unreliable_calculatedfinishedsquarefeet\n",
      "47\tcalculatedbathnbr\n",
      "48\tlotsizesquarefeet\n",
      "49\tfinishedsquarefeet13\n",
      "50\tfinishedsquarefeet12\n",
      "51\tfinishedsquarefeet15\n",
      "52\tgaragetotalsqft\n",
      "53\tfinishedsquarefeet50\n",
      "54\tbathroomcnt\n",
      "55\tbasementsqft\n",
      "56\tlandtaxvaluedollarcnt\n",
      "57\tthreequarterbathnbr\n",
      "58\tbedroomcnt\n",
      "59\tcalculatedfinishedsquarefeet\n",
      "60\tgaragecarcnt\n",
      "61\troomcnt\n",
      "62\tfinishedfloor1squarefeet\n",
      "63\tstructuretaxvaluedollarcnt\n",
      "64\ttaxamount\n",
      "65\tfinishedsquarefeet6\n",
      "66\theat_coded_other\n",
      "67\theat_coded_seven\n",
      "68\theat_coded_two\n",
      "69\tair_coded_na\n",
      "70\tair_coded_one\n",
      "71\tair_coded_other\n",
      "72\tfips_6037.0\n",
      "73\tfips_6059.0\n",
      "74\tfips_6111.0\n",
      "75\t2016-01\n",
      "76\t2016-02\n",
      "77\t2016-03\n",
      "78\t2016-04\n",
      "79\t2016-05\n",
      "80\t2016-06\n",
      "81\t2016-07\n",
      "82\t2016-08\n",
      "83\t2016-09\n",
      "84\t2016-10\n",
      "85\t2016-11\n",
      "86\t2016-12\n",
      "87\t2017-01\n",
      "88\t2017-02\n",
      "89\t2017-03\n",
      "90\t2017-04\n",
      "91\t2017-05\n",
      "92\t2017-06\n",
      "93\t2017-07\n",
      "94\t2017-08\n",
      "95\t2017-09\n",
      "96\tpos_loss\n",
      "97\tneg_loss\n"
     ]
    }
   ],
   "source": [
    "for i, n in enumerate(fully_engineered.columns.values):\n",
    "    print ( str(i) +'\\t' + n)"
   ]
  },
  {
   "cell_type": "code",
   "execution_count": null,
   "metadata": {},
   "outputs": [],
   "source": []
  },
  {
   "cell_type": "code",
   "execution_count": 115,
   "metadata": {},
   "outputs": [],
   "source": [
    "valid_features = fully_engineered.columns.values[3:96].tolist()"
   ]
  },
  {
   "cell_type": "code",
   "execution_count": 64,
   "metadata": {},
   "outputs": [
    {
     "data": {
      "text/plain": [
       "['bathroom_overage',\n",
       " 'knockdown',\n",
       " 'unreliable_assessment',\n",
       " 'low_qual_building',\n",
       " 'med_qual_building',\n",
       " 'assessed_structure_cost_per_sqft_outlier',\n",
       " 'topmarket',\n",
       " 'bedroom_overage',\n",
       " 'lotsizelevel',\n",
       " 'lowstructuretaxoutlier',\n",
       " 'lowlandtaxoutlier',\n",
       " 'multifam',\n",
       " 'highdensity',\n",
       " 'typical_land_use',\n",
       " 'single_story',\n",
       " 'has_pool',\n",
       " 'istrunc_calculatedfinishedsquarefeet',\n",
       " 'trunc_calculatedfinishedsquarefeet',\n",
       " 'istrunc_calculatedbathnbr',\n",
       " 'trunc_calculatedbathnbr',\n",
       " 'no_garage_info',\n",
       " 'garage_size_level',\n",
       " 'fireplace_level',\n",
       " 'patio_level',\n",
       " 'has_large_accessory',\n",
       " 'log_age',\n",
       " 'basement_level',\n",
       " 'full_basement',\n",
       " 'square_foot_overage_small',\n",
       " 'square_foot_overage_large',\n",
       " 'square_foot_overage_opulent',\n",
       " 'recent_tax_delinquency',\n",
       " 'is_trunc_bedrooms',\n",
       " 'trunc_bedrooms',\n",
       " 'is_trunc_bathrooms',\n",
       " 'trunc_bathrooms',\n",
       " 'lot_size_overage_small',\n",
       " 'lot_size_overage_mid',\n",
       " 'lot_size_overage_large',\n",
       " 'lot_size_overage_huge',\n",
       " 'lot_size_overage_raw',\n",
       " 'has_unreliable_bedrooms',\n",
       " 'has_unreliable_bathrooms',\n",
       " 'has_unreliable_calculatedfinishedsquarefeet',\n",
       " 'calculatedbathnbr',\n",
       " 'lotsizesquarefeet',\n",
       " 'finishedsquarefeet13',\n",
       " 'finishedsquarefeet12',\n",
       " 'finishedsquarefeet15',\n",
       " 'garagetotalsqft',\n",
       " 'finishedsquarefeet50',\n",
       " 'bathroomcnt',\n",
       " 'basementsqft',\n",
       " 'landtaxvaluedollarcnt',\n",
       " 'threequarterbathnbr',\n",
       " 'bedroomcnt',\n",
       " 'calculatedfinishedsquarefeet',\n",
       " 'garagecarcnt',\n",
       " 'roomcnt',\n",
       " 'finishedfloor1squarefeet',\n",
       " 'structuretaxvaluedollarcnt',\n",
       " 'taxamount',\n",
       " 'finishedsquarefeet6',\n",
       " 'heat_coded_other',\n",
       " 'heat_coded_seven',\n",
       " 'heat_coded_two',\n",
       " 'air_coded_na',\n",
       " 'air_coded_one',\n",
       " 'air_coded_other',\n",
       " 'fips_6037.0',\n",
       " 'fips_6059.0',\n",
       " 'fips_6111.0',\n",
       " '2016-01',\n",
       " '2016-02',\n",
       " '2016-03',\n",
       " '2016-04',\n",
       " '2016-05',\n",
       " '2016-06',\n",
       " '2016-07',\n",
       " '2016-08',\n",
       " '2016-09',\n",
       " '2016-10',\n",
       " '2016-11',\n",
       " '2016-12',\n",
       " '2017-01',\n",
       " '2017-02',\n",
       " '2017-03',\n",
       " '2017-04',\n",
       " '2017-05',\n",
       " '2017-06',\n",
       " '2017-07',\n",
       " '2017-08',\n",
       " '2017-09']"
      ]
     },
     "execution_count": 64,
     "metadata": {},
     "output_type": "execute_result"
    }
   ],
   "source": [
    "valid_features"
   ]
  },
  {
   "cell_type": "code",
   "execution_count": 116,
   "metadata": {},
   "outputs": [],
   "source": [
    "holdout_split = fully_engineered.sample(frac=.7, random_state=33)\n",
    "engineered_trn = fully_engineered.drop(holdout_split.index)"
   ]
  },
  {
   "cell_type": "code",
   "execution_count": 117,
   "metadata": {},
   "outputs": [],
   "source": [
    "engineered_tst = holdout_split.sample(frac=.4, random_state=37)\n",
    "engineered_val = holdout_split.drop(engineered_tst.index)"
   ]
  },
  {
   "cell_type": "code",
   "execution_count": 120,
   "metadata": {},
   "outputs": [
    {
     "name": "stdout",
     "output_type": "stream",
     "text": [
      "upload: ./train1.csv to s3://zillow-kaggle-awsml-2020/low_binary/train1.csv\n",
      "upload: ./valid1.csv to s3://zillow-kaggle-awsml-2020/low_binary/valid1.csv\n",
      "upload: ./test1.csv to s3://zillow-kaggle-awsml-2020/low_binary/test1.csv\n",
      "upload: ./train1.csv to s3://zillow-kaggle-awsml-2020/high_binary/train1.csv\n",
      "upload: ./valid1.csv to s3://zillow-kaggle-awsml-2020/high_binary/valid1.csv\n",
      "upload: ./test1.csv to s3://zillow-kaggle-awsml-2020/high_binary/test1.csv\n",
      "upload: ./train1.csv to s3://zillow-kaggle-awsml-2020/regression/train1.csv\n",
      "upload: ./valid1.csv to s3://zillow-kaggle-awsml-2020/regression/valid1.csv\n",
      "upload: ./test1.csv to s3://zillow-kaggle-awsml-2020/regression/test1.csv\n"
     ]
    }
   ],
   "source": [
    "experiments_names_and_targets = {'low_binary':'neg_loss', 'high_binary':'pos_loss', 'regression':'logerror'}\n",
    "for name,label_col in experiments_names_and_targets.items():\n",
    "    temp = engineered_trn[[label_col] + valid_features]\n",
    "    #temp.reset_index()\n",
    "    temp = 1.0*temp\n",
    "    temp.to_csv('train1.csv', index=False, header=False)\n",
    "    !aws s3 cp train1.csv {'s3://zillow-kaggle-awsml-2020/{}/'.format(name)}\n",
    "    temp = engineered_val[[label_col] + valid_features]\n",
    "    #temp.reset_index()\n",
    "    temp = 1.0*temp\n",
    "    temp.to_csv('valid1.csv', index=False, header=False)\n",
    "    !aws s3 cp valid1.csv {'s3://zillow-kaggle-awsml-2020/{}/'.format(name)}\n",
    "    temp = engineered_tst[[label_col] + valid_features]\n",
    "    #temp.reset_index()\n",
    "    temp = 1.0*temp\n",
    "    temp.to_csv('test1.csv', index=False, header=False)\n",
    "    !aws s3 cp test1.csv {'s3://zillow-kaggle-awsml-2020/{}/'.format(name)}"
   ]
  },
  {
   "cell_type": "code",
   "execution_count": 59,
   "metadata": {},
   "outputs": [
    {
     "data": {
      "text/plain": [
       "single_story                            False\n",
       "has_pool                                False\n",
       "istrunc_calculatedfinishedsquarefeet    False\n",
       "trunc_calculatedfinishedsquarefeet        NaN\n",
       "istrunc_calculatedbathnbr               False\n",
       "trunc_calculatedbathnbr                   NaN\n",
       "no_garage_info                          False\n",
       "garage_size_level                           0\n",
       "Name: 126, dtype: object"
      ]
     },
     "execution_count": 59,
     "metadata": {},
     "output_type": "execute_result"
    }
   ],
   "source": [
    "engineered_trn.iloc[10, 17:25]"
   ]
  },
  {
   "cell_type": "code",
   "execution_count": 24,
   "metadata": {},
   "outputs": [
    {
     "data": {
      "text/plain": [
       "array(['hellobathroom_overage', 'helloknockdown',\n",
       "       'hellounreliable_assessment', 'hellolow_qual_building',\n",
       "       'hellomed_qual_building',\n",
       "       'helloassessed_structure_cost_per_sqft_outlier', 'hellotopmarket',\n",
       "       'hellobedroom_overage', 'hellolotsizelevel',\n",
       "       'hellolowstructuretaxoutlier', 'hellolowlandtaxoutlier',\n",
       "       'hellomultifam', 'hellohighdensity', 'hellotypical_land_use',\n",
       "       'hellosingle_story', 'hellohas_pool',\n",
       "       'helloistrunc_calculatedfinishedsquarefeet',\n",
       "       'hellotrunc_calculatedfinishedsquarefeet',\n",
       "       'helloistrunc_calculatedbathnbr', 'hellotrunc_calculatedbathnbr',\n",
       "       'hellono_garage_info', 'hellogarage_size_level',\n",
       "       'hellofireplace_level', 'hellopatio_level',\n",
       "       'hellohas_large_accessory', 'hellolog_age', 'hellobasement_level',\n",
       "       'hellofull_basement', 'hellosquare_foot_overage_small',\n",
       "       'hellosquare_foot_overage_large',\n",
       "       'hellosquare_foot_overage_opulent', 'hellorecent_tax_delinquency',\n",
       "       'hellois_trunc_bedrooms', 'hellotrunc_bedrooms',\n",
       "       'hellois_trunc_bathrooms', 'hellotrunc_bathrooms',\n",
       "       'hellolot_size_overage_small', 'hellolot_size_overage_mid',\n",
       "       'hellolot_size_overage_large', 'hellolot_size_overage_huge',\n",
       "       'hellolot_size_overage_raw', 'hellohas_unreliable_bedrooms',\n",
       "       'hellohas_unreliable_bathrooms', 'hellocalculatedbathnbr',\n",
       "       'hellolotsizesquarefeet', 'hellofinishedsquarefeet13',\n",
       "       'hellofinishedsquarefeet12', 'hellofinishedsquarefeet15',\n",
       "       'hellogaragetotalsqft', 'hellofinishedsquarefeet50',\n",
       "       'hellobathroomcnt', 'hellobasementsqft',\n",
       "       'hellolandtaxvaluedollarcnt', 'hellothreequarterbathnbr',\n",
       "       'hellobedroomcnt', 'hellocalculatedfinishedsquarefeet',\n",
       "       'hellogaragecarcnt', 'helloroomcnt',\n",
       "       'hellofinishedfloor1squarefeet', 'hellostructuretaxvaluedollarcnt',\n",
       "       'hellotaxamount', 'hellofinishedsquarefeet6',\n",
       "       'helloheat_coded_other', 'helloheat_coded_seven',\n",
       "       'helloheat_coded_two', 'helloair_coded_na', 'helloair_coded_one',\n",
       "       'helloair_coded_other', 'hellofips_6037.0', 'hellofips_6059.0',\n",
       "       'hellofips_6111.0', 'hello2016-01', 'hello2016-02', 'hello2016-03',\n",
       "       'hello2016-04', 'hello2016-05', 'hello2016-06', 'hello2016-07',\n",
       "       'hello2016-08', 'hello2016-09', 'hello2016-10', 'hello2016-11',\n",
       "       'hello2016-12', 'hello2017-01', 'hello2017-02', 'hello2017-03',\n",
       "       'hello2017-04', 'hello2017-05', 'hello2017-06', 'hello2017-07',\n",
       "       'hello2017-08', 'hello2017-09'], dtype=object)"
      ]
     },
     "execution_count": 24,
     "metadata": {},
     "output_type": "execute_result"
    }
   ],
   "source": [
    "feats"
   ]
  },
  {
   "cell_type": "code",
   "execution_count": 3,
   "metadata": {},
   "outputs": [],
   "source": [
    "bucket = 'zillow-kaggle-awsml-2020'\n",
    "prefix = 'engineered'"
   ]
  },
  {
   "cell_type": "code",
   "execution_count": null,
   "metadata": {},
   "outputs": [],
   "source": []
  },
  {
   "cell_type": "code",
   "execution_count": null,
   "metadata": {},
   "outputs": [],
   "source": [
    "region_name = boto3.Session().region_name\n",
    "from sagemaker.amazon.amazon_estimator import get_image_uri\n",
    "container = get_image_uri(boto3.Session().region_name, 'linear-learner')\n"
   ]
  },
  {
   "cell_type": "code",
   "execution_count": 75,
   "metadata": {},
   "outputs": [],
   "source": [
    "nan_cols = fully_engineered.isna().any()"
   ]
  },
  {
   "cell_type": "code",
   "execution_count": 76,
   "metadata": {},
   "outputs": [
    {
     "data": {
      "text/plain": [
       "Series([], dtype: bool)"
      ]
     },
     "execution_count": 76,
     "metadata": {},
     "output_type": "execute_result"
    }
   ],
   "source": [
    "nan_cols[nan_cols==True]"
   ]
  },
  {
   "cell_type": "code",
   "execution_count": 87,
   "metadata": {},
   "outputs": [
    {
     "data": {
      "text/plain": [
       "0         8.926518\n",
       "1         8.200837\n",
       "2         9.343472\n",
       "3        11.168461\n",
       "4         8.699681\n",
       "5         7.904335\n",
       "6         8.806574\n",
       "7         0.000000\n",
       "8         0.000000\n",
       "9         0.000000\n",
       "10        9.021598\n",
       "11        8.861208\n",
       "12        9.013717\n",
       "13        0.000000\n",
       "14        8.939450\n",
       "15        8.699681\n",
       "16        8.641709\n",
       "17       11.901394\n",
       "18        8.881975\n",
       "19        8.727778\n",
       "20        8.399535\n",
       "21        8.360773\n",
       "22        8.699681\n",
       "23        9.298992\n",
       "24        7.418181\n",
       "25        9.017726\n",
       "26        8.806424\n",
       "27        0.000000\n",
       "28       10.682812\n",
       "29        8.993676\n",
       "           ...    \n",
       "77583     8.412055\n",
       "77584     9.006999\n",
       "77585     8.922125\n",
       "77586     8.227910\n",
       "77587     8.671630\n",
       "77588     8.919587\n",
       "77589     8.651374\n",
       "77590    10.580505\n",
       "77591     9.791550\n",
       "77592     0.000000\n",
       "77593    10.021137\n",
       "77594     8.985320\n",
       "77595     8.723231\n",
       "77596     8.636397\n",
       "77597     8.556798\n",
       "77598     9.392745\n",
       "77599     8.401782\n",
       "77600    10.723245\n",
       "77601    11.584250\n",
       "77602     8.516393\n",
       "77603     8.900276\n",
       "77604     8.923191\n",
       "77605    10.952752\n",
       "77606     8.922658\n",
       "77607     8.440528\n",
       "77608    10.993530\n",
       "77609    10.766504\n",
       "77610     9.401456\n",
       "77611     8.532082\n",
       "77612     8.755895\n",
       "Name: lotsizesquarefeet, Length: 167888, dtype: float64"
      ]
     },
     "execution_count": 87,
     "metadata": {},
     "output_type": "execute_result"
    }
   ],
   "source": [
    "fully_engineered.iloc[:,48]"
   ]
  },
  {
   "cell_type": "code",
   "execution_count": null,
   "metadata": {},
   "outputs": [],
   "source": []
  }
 ],
 "metadata": {
  "kernelspec": {
   "display_name": "conda_python3",
   "language": "python",
   "name": "conda_python3"
  },
  "language_info": {
   "codemirror_mode": {
    "name": "ipython",
    "version": 3
   },
   "file_extension": ".py",
   "mimetype": "text/x-python",
   "name": "python",
   "nbconvert_exporter": "python",
   "pygments_lexer": "ipython3",
   "version": "3.6.5"
  }
 },
 "nbformat": 4,
 "nbformat_minor": 4
}
